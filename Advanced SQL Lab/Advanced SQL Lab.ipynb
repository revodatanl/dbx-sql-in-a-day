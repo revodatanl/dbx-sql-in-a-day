{
 "cells": [
  {
   "cell_type": "markdown",
   "metadata": {
    "application/vnd.databricks.v1+cell": {
     "cellMetadata": {},
     "inputWidgets": {},
     "nuid": "6f136209-065f-4455-8ecf-80c5347abb21",
     "showTitle": false,
     "tableResultSettingsMap": {},
     "title": ""
    }
   },
   "source": [
    "# Advanced Data Analysis Techniques\n",
    "\n",
    "The goal of this notebook is to get familiar with the even more advanced SQL commands\n",
    "- Window functions\n",
    "- Subqueries\n",
    "- Common Table Expressions (CTE)"
   ]
  },
  {
   "cell_type": "markdown",
   "metadata": {
    "application/vnd.databricks.v1+cell": {
     "cellMetadata": {},
     "inputWidgets": {},
     "nuid": "2f42447f-dab6-4bf9-b4da-7573635e5f9c",
     "showTitle": false,
     "tableResultSettingsMap": {},
     "title": ""
    }
   },
   "source": [
    "## Window functions"
   ]
  },
  {
   "cell_type": "code",
   "execution_count": 0,
   "metadata": {
    "application/vnd.databricks.v1+cell": {
     "cellMetadata": {
      "byteLimit": 2048000,
      "rowLimit": 10000
     },
     "inputWidgets": {},
     "nuid": "cceeab09-ba1f-431f-a3e9-818b3a945925",
     "showTitle": false,
     "tableResultSettingsMap": {},
     "title": ""
    }
   },
   "outputs": [],
   "source": [
    "SELECT\n",
    "    tpep_pickup_datetime,\n",
    "    fare_amount,\n",
    "    SUM(fare_amount) OVER (ORDER BY tpep_pickup_datetime) AS running_total_fare\n",
    "FROM\n",
    "    samples.nyctaxi.trips\n",
    "WHERE DATE(tpep_pickup_datetime) = '2016-01-01' -- Filter for a specific date to make the output manageable\n",
    "LIMIT 10;"
   ]
  },
  {
   "cell_type": "markdown",
   "metadata": {
    "application/vnd.databricks.v1+cell": {
     "cellMetadata": {},
     "inputWidgets": {},
     "nuid": "0a64b643-d095-47e7-90d0-1e853b6374bc",
     "showTitle": false,
     "tableResultSettingsMap": {},
     "title": ""
    }
   },
   "source": [
    "## Common Table Expressions"
   ]
  },
  {
   "cell_type": "code",
   "execution_count": 0,
   "metadata": {
    "application/vnd.databricks.v1+cell": {
     "cellMetadata": {
      "byteLimit": 2048000,
      "rowLimit": 10000
     },
     "inputWidgets": {},
     "nuid": "e016999c-6940-4bb4-b410-45adab6639de",
     "showTitle": false,
     "tableResultSettingsMap": {},
     "title": ""
    }
   },
   "outputs": [],
   "source": [
    "WITH\n",
    "  DailyTripCounts AS (\n",
    "    SELECT\n",
    "        DATE(tpep_pickup_datetime) AS trip_date,\n",
    "        COUNT(*) AS num_trips\n",
    "    FROM\n",
    "        samples.nyctaxi.trips\n",
    "    GROUP BY\n",
    "        trip_date\n",
    ")\n",
    "SELECT\n",
    "    trip_date,\n",
    "    num_trips\n",
    "FROM\n",
    "    DailyTripCounts\n",
    "ORDER BY\n",
    "    trip_date;"
   ]
  },
  {
   "cell_type": "code",
   "execution_count": 0,
   "metadata": {
    "application/vnd.databricks.v1+cell": {
     "cellMetadata": {
      "byteLimit": 2048000,
      "rowLimit": 10000
     },
     "inputWidgets": {},
     "nuid": "a2e52ec3-52e8-4c76-bc46-ca6fa29f3a7d",
     "showTitle": false,
     "tableResultSettingsMap": {},
     "title": ""
    }
   },
   "outputs": [],
   "source": [
    "-- EXERCISE\n",
    "\n",
    "-- Calculate the average trip distance by day of the week\n",
    "-- Hint: use the `DAYOFWEEK` function"
   ]
  },
  {
   "cell_type": "markdown",
   "metadata": {
    "application/vnd.databricks.v1+cell": {
     "cellMetadata": {},
     "inputWidgets": {},
     "nuid": "458e89f2-b6fd-4bd7-a071-ef997d9f92fe",
     "showTitle": false,
     "tableResultSettingsMap": {},
     "title": ""
    }
   },
   "source": [
    "## Subqueries"
   ]
  },
  {
   "cell_type": "code",
   "execution_count": 0,
   "metadata": {
    "application/vnd.databricks.v1+cell": {
     "cellMetadata": {
      "byteLimit": 2048000,
      "rowLimit": 10000
     },
     "inputWidgets": {},
     "nuid": "85dc0201-2275-40b1-9cde-8cc47dea50d1",
     "showTitle": false,
     "tableResultSettingsMap": {},
     "title": ""
    }
   },
   "outputs": [],
   "source": [
    "SELECT * FROM samples.nyctaxi.trips\n",
    "WHERE fare_amount > (\n",
    "  SELECT AVG(fare_amount) FROM samples.nyctaxi.trips\n",
    ");"
   ]
  }
 ],
 "metadata": {
  "application/vnd.databricks.v1+notebook": {
   "computePreferences": null,
   "dashboards": [],
   "environmentMetadata": {
    "base_environment": "",
    "environment_version": "2"
   },
   "language": "sql",
   "notebookMetadata": {
    "pythonIndentUnit": 4
   },
   "notebookName": "Advanced SQL Lab",
   "widgets": {}
  },
  "language_info": {
   "name": "sql"
  }
 },
 "nbformat": 4,
 "nbformat_minor": 0
}

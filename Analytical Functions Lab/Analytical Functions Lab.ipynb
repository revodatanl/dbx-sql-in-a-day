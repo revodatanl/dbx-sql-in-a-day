{
 "cells": [
  {
   "cell_type": "markdown",
   "metadata": {
    "application/vnd.databricks.v1+cell": {
     "cellMetadata": {},
     "inputWidgets": {},
     "nuid": "6f136209-065f-4455-8ecf-80c5347abb21",
     "showTitle": false,
     "tableResultSettingsMap": {},
     "title": ""
    }
   },
   "source": [
    "# Analytical Functions\n",
    "\n",
    "The goal of this notebook is to get familiar with some very advanced SQL commands\n",
    "- `ORDER BY`\n",
    "- `GROUP BY`\n",
    "- `HAVING`\n",
    "- `QUALIFY`"
   ]
  },
  {
   "cell_type": "markdown",
   "metadata": {
    "application/vnd.databricks.v1+cell": {
     "cellMetadata": {},
     "inputWidgets": {},
     "nuid": "5b199e24-f220-4e84-8355-bc7799032f8b",
     "showTitle": false,
     "tableResultSettingsMap": {},
     "title": ""
    }
   },
   "source": [
    "## Ordering results using `ORDER BY`"
   ]
  },
  {
   "cell_type": "code",
   "execution_count": 0,
   "metadata": {
    "application/vnd.databricks.v1+cell": {
     "cellMetadata": {
      "byteLimit": 2048000,
      "rowLimit": 10000
     },
     "inputWidgets": {},
     "nuid": "ddfe0bc9-7b5d-4619-9c5f-31512ca066d3",
     "showTitle": false,
     "tableResultSettingsMap": {},
     "title": ""
    }
   },
   "outputs": [],
   "source": [
    "SELECT\n",
    "    *\n",
    "FROM\n",
    "    samples.nyctaxi.trips\n",
    "ORDER BY\n",
    "    fare_amount DESC,\n",
    "    trip_distance ASC\n",
    "LIMIT 10;"
   ]
  },
  {
   "cell_type": "markdown",
   "metadata": {
    "application/vnd.databricks.v1+cell": {
     "cellMetadata": {},
     "inputWidgets": {},
     "nuid": "6748ae62-50fb-4fba-8207-05b1b28df3d5",
     "showTitle": false,
     "tableResultSettingsMap": {},
     "title": ""
    }
   },
   "source": [
    "## Grouping data using `GROUP BY`"
   ]
  },
  {
   "cell_type": "code",
   "execution_count": 0,
   "metadata": {
    "application/vnd.databricks.v1+cell": {
     "cellMetadata": {
      "byteLimit": 2048000,
      "rowLimit": 10000
     },
     "inputWidgets": {},
     "nuid": "2a105a05-c02e-4970-bd4e-94097f8fe28f",
     "showTitle": false,
     "tableResultSettingsMap": {},
     "title": ""
    }
   },
   "outputs": [],
   "source": [
    "SELECT\n",
    "    DATE(tpep_pickup_datetime) AS trip_date,\n",
    "    COUNT(*) AS num_trips\n",
    "FROM\n",
    "    samples.nyctaxi.trips\n",
    "GROUP BY\n",
    "    trip_date\n",
    "ORDER BY\n",
    "    trip_date;"
   ]
  },
  {
   "cell_type": "markdown",
   "metadata": {
    "application/vnd.databricks.v1+cell": {
     "cellMetadata": {},
     "inputWidgets": {},
     "nuid": "1909723f-e4fa-4185-9a81-dcb06fcd8719",
     "showTitle": false,
     "tableResultSettingsMap": {},
     "title": ""
    }
   },
   "source": [
    "## Filter grouped results using `HAVING`"
   ]
  },
  {
   "cell_type": "code",
   "execution_count": 0,
   "metadata": {
    "application/vnd.databricks.v1+cell": {
     "cellMetadata": {
      "byteLimit": 2048000,
      "rowLimit": 10000
     },
     "inputWidgets": {},
     "nuid": "0c996500-a240-44fa-9e16-598e4ba91e2d",
     "showTitle": false,
     "tableResultSettingsMap": {},
     "title": ""
    }
   },
   "outputs": [],
   "source": [
    "SELECT\n",
    "    DATE(tpep_pickup_datetime) AS trip_date,\n",
    "    AVG(trip_distance) AS average_distance\n",
    "FROM\n",
    "    samples.nyctaxi.trips\n",
    "GROUP BY\n",
    "    trip_date\n",
    "HAVING\n",
    "    AVG(trip_distance) > 2;"
   ]
  },
  {
   "cell_type": "markdown",
   "metadata": {
    "application/vnd.databricks.v1+cell": {
     "cellMetadata": {},
     "inputWidgets": {},
     "nuid": "9d6e4e26-3f34-4497-9a34-2c4c3012dda4",
     "showTitle": false,
     "tableResultSettingsMap": {},
     "title": ""
    }
   },
   "source": [
    "## Filter results of window functions using `QUALIFY`"
   ]
  },
  {
   "cell_type": "code",
   "execution_count": 0,
   "metadata": {
    "application/vnd.databricks.v1+cell": {
     "cellMetadata": {
      "byteLimit": 2048000,
      "rowLimit": 10000
     },
     "inputWidgets": {},
     "nuid": "0cf4620d-e782-42d5-858d-e84e6ed1ee1a",
     "showTitle": false,
     "tableResultSettingsMap": {},
     "title": ""
    }
   },
   "outputs": [],
   "source": [
    "SELECT\n",
    "    pickup_zip,\n",
    "    COUNT(*) AS num_pickups\n",
    "FROM\n",
    "    samples.nyctaxi.trips\n",
    "GROUP BY\n",
    "    pickup_zip\n",
    "QUALIFY\n",
    "    RANK() OVER (ORDER BY num_pickups DESC) <= 5  -- Rank pickup locations by popularity and keep the top 5\n",
    "ORDER BY\n",
    "    num_pickups DESC;"
   ]
  }
 ],
 "metadata": {
  "application/vnd.databricks.v1+notebook": {
   "computePreferences": null,
   "dashboards": [],
   "environmentMetadata": {
    "base_environment": "",
    "environment_version": "2"
   },
   "language": "sql",
   "notebookMetadata": {
    "pythonIndentUnit": 4
   },
   "notebookName": "Analytical Functions Lab",
   "widgets": {}
  },
  "language_info": {
   "name": "sql"
  }
 },
 "nbformat": 4,
 "nbformat_minor": 0
}

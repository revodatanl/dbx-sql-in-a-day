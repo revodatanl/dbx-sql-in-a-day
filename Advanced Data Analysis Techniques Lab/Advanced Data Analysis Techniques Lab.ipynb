{
 "cells": [
  {
   "cell_type": "markdown",
   "metadata": {
    "application/vnd.databricks.v1+cell": {
     "cellMetadata": {},
     "inputWidgets": {},
     "nuid": "6f136209-065f-4455-8ecf-80c5347abb21",
     "showTitle": false,
     "tableResultSettingsMap": {},
     "title": ""
    }
   },
   "source": [
    "# Advanced Data Analysis Techniques\n",
    "\n",
    "The goal of this notebook is to get familiar with the advanced SQL commands\n",
    "- Joins\n",
    "- Aggregate functions\n",
    "    - `COUNT`\n",
    "    - `DISTINCT`\n",
    "    - `SUM`\n",
    "    - `AVG`\n",
    "    - `MIN` and `MAX`"
   ]
  },
  {
   "cell_type": "markdown",
   "metadata": {
    "application/vnd.databricks.v1+cell": {
     "cellMetadata": {},
     "inputWidgets": {},
     "nuid": "2f42447f-dab6-4bf9-b4da-7573635e5f9c",
     "showTitle": false,
     "tableResultSettingsMap": {},
     "title": ""
    }
   },
   "source": [
    "## `JOIN`ing tables\n",
    "\n",
    "- `INNER JOIN`\n",
    "- `LEFT JOIN`\n",
    "- `RIGHT JOIN`\n",
    "- `FULL OUTER JOIN`"
   ]
  },
  {
   "cell_type": "markdown",
   "metadata": {
    "application/vnd.databricks.v1+cell": {
     "cellMetadata": {},
     "inputWidgets": {},
     "nuid": "43986a40-6e74-41e5-80fd-a383e672cdaf",
     "showTitle": false,
     "tableResultSettingsMap": {},
     "title": ""
    }
   },
   "source": [
    "### `INNER JOIN`\n",
    "\n",
    "Select records that have matching values in _both tables_"
   ]
  },
  {
   "cell_type": "code",
   "execution_count": 0,
   "metadata": {
    "application/vnd.databricks.v1+cell": {
     "cellMetadata": {
      "byteLimit": 2048000,
      "rowLimit": 10000
     },
     "inputWidgets": {},
     "nuid": "cceeab09-ba1f-431f-a3e9-818b3a945925",
     "showTitle": false,
     "tableResultSettingsMap": {},
     "title": ""
    }
   },
   "outputs": [],
   "source": [
    "SELECT\n",
    "    c.c_name AS customer_name,\n",
    "    o.o_orderdate\n",
    "FROM\n",
    "    samples.tpch.customer c\n",
    "INNER JOIN  -- Or just JOIN (INNER is the default)\n",
    "    samples.tpch.orders o ON c.c_custkey = o.o_custkey\n",
    "LIMIT 10;"
   ]
  },
  {
   "cell_type": "markdown",
   "metadata": {
    "application/vnd.databricks.v1+cell": {
     "cellMetadata": {},
     "inputWidgets": {},
     "nuid": "141bb6d8-3c54-4a19-8c12-119743a50a7d",
     "showTitle": false,
     "tableResultSettingsMap": {},
     "title": ""
    }
   },
   "source": [
    "### `LEFT JOIN`\n",
    "\n",
    "Select _all_ records from the _left_ table, and matching records from the _right_ table"
   ]
  },
  {
   "cell_type": "code",
   "execution_count": 0,
   "metadata": {
    "application/vnd.databricks.v1+cell": {
     "cellMetadata": {
      "byteLimit": 2048000,
      "rowLimit": 10000
     },
     "inputWidgets": {},
     "nuid": "2d14b203-44c8-4130-94c5-2bfbb84939c2",
     "showTitle": false,
     "tableResultSettingsMap": {},
     "title": ""
    }
   },
   "outputs": [],
   "source": [
    "SELECT\n",
    "    c.c_name AS customer_name,\n",
    "    o.o_orderdate\n",
    "FROM\n",
    "    samples.tpch.customer c\n",
    "LEFT JOIN\n",
    "    samples.tpch.orders o\n",
    "ON c.c_custkey = o.o_custkey\n",
    "-- WHERE o.o_orderdate IS NULL\n",
    "LIMIT 10;"
   ]
  },
  {
   "cell_type": "markdown",
   "metadata": {
    "application/vnd.databricks.v1+cell": {
     "cellMetadata": {},
     "inputWidgets": {},
     "nuid": "0a64b643-d095-47e7-90d0-1e853b6374bc",
     "showTitle": false,
     "tableResultSettingsMap": {},
     "title": ""
    }
   },
   "source": [
    "### `RIGHT JOIN`\n",
    "\n",
    "Select _all_ records from the _right_ table, and matching records from the _left_ table. This is essentially the reverse of a `LEFT JOIN`."
   ]
  },
  {
   "cell_type": "code",
   "execution_count": 0,
   "metadata": {
    "application/vnd.databricks.v1+cell": {
     "cellMetadata": {
      "byteLimit": 2048000,
      "rowLimit": 10000
     },
     "inputWidgets": {},
     "nuid": "d05781d9-f127-431e-9ed5-a49e7bcfc620",
     "showTitle": false,
     "tableResultSettingsMap": {},
     "title": ""
    }
   },
   "outputs": [],
   "source": [
    "SELECT\n",
    "    c.c_name AS customer_name,\n",
    "    o.o_orderdate\n",
    "FROM\n",
    "    samples.tpch.customer c\n",
    "RIGHT JOIN\n",
    "    samples.tpch.orders o\n",
    "ON c.c_custkey = o.o_custkey\n",
    "-- WHERE c.c_name IS NULL\n",
    "LIMIT 10;"
   ]
  },
  {
   "cell_type": "markdown",
   "metadata": {
    "application/vnd.databricks.v1+cell": {
     "cellMetadata": {},
     "inputWidgets": {},
     "nuid": "a0c2d013-fbd7-4e77-bcb3-de37a497fd76",
     "showTitle": false,
     "tableResultSettingsMap": {},
     "title": ""
    }
   },
   "source": [
    "### `FULL OUTER JOIN`\n",
    "\n",
    "Select _all_ records from either table, regardless of wether they can be matched."
   ]
  },
  {
   "cell_type": "code",
   "execution_count": 0,
   "metadata": {
    "application/vnd.databricks.v1+cell": {
     "cellMetadata": {
      "byteLimit": 2048000,
      "rowLimit": 10000
     },
     "inputWidgets": {},
     "nuid": "04e89a52-519c-418b-bd32-8113b85e3336",
     "showTitle": false,
     "tableResultSettingsMap": {},
     "title": ""
    }
   },
   "outputs": [],
   "source": [
    "SELECT\n",
    "    c.c_name AS customer_name,\n",
    "    o.o_orderdate\n",
    "FROM\n",
    "    samples.tpch.customer c\n",
    "FULL OUTER JOIN\n",
    "    samples.tpch.orders o ON c.c_custkey = o.o_custkey\n",
    "-- WHERE c.c_name IS NULL OR o.o_orderdate IS NULL\n",
    "LIMIT 10;"
   ]
  },
  {
   "cell_type": "markdown",
   "metadata": {
    "application/vnd.databricks.v1+cell": {
     "cellMetadata": {},
     "inputWidgets": {},
     "nuid": "47ed3b35-c910-4fd5-be87-91071448b565",
     "showTitle": false,
     "tableResultSettingsMap": {},
     "title": ""
    }
   },
   "source": [
    "## Aggregate functions"
   ]
  },
  {
   "cell_type": "markdown",
   "metadata": {
    "application/vnd.databricks.v1+cell": {
     "cellMetadata": {},
     "inputWidgets": {},
     "nuid": "e28d8d07-616c-4d49-8dc7-e6535895627a",
     "showTitle": false,
     "tableResultSettingsMap": {},
     "title": ""
    }
   },
   "source": [
    "### `COUNT` and `DISTINCT`"
   ]
  },
  {
   "cell_type": "code",
   "execution_count": 0,
   "metadata": {
    "application/vnd.databricks.v1+cell": {
     "cellMetadata": {
      "byteLimit": 2048000,
      "rowLimit": 10000
     },
     "inputWidgets": {},
     "nuid": "8ee54bc5-75dd-4185-a955-ded4ebc7b57b",
     "showTitle": false,
     "tableResultSettingsMap": {},
     "title": ""
    }
   },
   "outputs": [],
   "source": [
    "SELECT\n",
    "    COUNT(*) AS total_customers,\n",
    "    COUNT(DISTINCT c_nationkey) AS unique_nations\n",
    "FROM\n",
    "    samples.tpch.customer;"
   ]
  },
  {
   "cell_type": "markdown",
   "metadata": {
    "application/vnd.databricks.v1+cell": {
     "cellMetadata": {},
     "inputWidgets": {},
     "nuid": "f11c13c8-47a1-4382-803e-6a3b72e87e63",
     "showTitle": false,
     "tableResultSettingsMap": {},
     "title": ""
    }
   },
   "source": [
    "### `SUM` and `AVG`"
   ]
  },
  {
   "cell_type": "code",
   "execution_count": 0,
   "metadata": {
    "application/vnd.databricks.v1+cell": {
     "cellMetadata": {
      "byteLimit": 2048000,
      "rowLimit": 10000
     },
     "inputWidgets": {},
     "nuid": "957e8aa3-a7ed-4ad8-a94e-285fcf989523",
     "showTitle": false,
     "tableResultSettingsMap": {},
     "title": ""
    }
   },
   "outputs": [],
   "source": [
    "SELECT\n",
    "    SUM(o_totalprice) AS total_sales,\n",
    "    AVG(o_totalprice) AS average_order_value\n",
    "FROM\n",
    "    samples.tpch.orders;"
   ]
  },
  {
   "cell_type": "markdown",
   "metadata": {
    "application/vnd.databricks.v1+cell": {
     "cellMetadata": {},
     "inputWidgets": {},
     "nuid": "c320e27d-1b32-4d92-8c5d-71e6fa59aaf0",
     "showTitle": false,
     "tableResultSettingsMap": {},
     "title": ""
    }
   },
   "source": [
    "### `MIN` and `MAX`"
   ]
  },
  {
   "cell_type": "code",
   "execution_count": 0,
   "metadata": {
    "application/vnd.databricks.v1+cell": {
     "cellMetadata": {
      "byteLimit": 2048000,
      "rowLimit": 10000
     },
     "inputWidgets": {},
     "nuid": "516df745-cdc0-4dbd-9095-cbdb929ee34e",
     "showTitle": false,
     "tableResultSettingsMap": {},
     "title": ""
    }
   },
   "outputs": [],
   "source": [
    "SELECT\n",
    "    MIN(l_quantity) AS min_quantity,\n",
    "    MAX(l_quantity) AS max_quantity\n",
    "FROM\n",
    "    samples.tpch.lineitem ;"
   ]
  }
 ],
 "metadata": {
  "application/vnd.databricks.v1+notebook": {
   "computePreferences": null,
   "dashboards": [],
   "environmentMetadata": {
    "base_environment": "",
    "environment_version": "2"
   },
   "language": "sql",
   "notebookMetadata": {
    "pythonIndentUnit": 4
   },
   "notebookName": "Advanced Data Analysis Techniques Lab",
   "widgets": {}
  },
  "language_info": {
   "name": "sql"
  }
 },
 "nbformat": 4,
 "nbformat_minor": 0
}
